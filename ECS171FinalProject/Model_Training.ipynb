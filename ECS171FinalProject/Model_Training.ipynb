{
  "nbformat": 4,
  "nbformat_minor": 0,
  "metadata": {
    "colab": {
      "provenance": []
    },
    "kernelspec": {
      "name": "python3",
      "display_name": "Python 3"
    },
    "language_info": {
      "name": "python"
    }
  },
  "cells": [
    {
      "cell_type": "markdown",
      "source": [
        "## Model Training"
      ],
      "metadata": {
        "id": "vzROojQ7x68j"
      }
    },
    {
      "cell_type": "markdown",
      "source": [
        "### Test and Split"
      ],
      "metadata": {
        "id": "rhmbYUdHx_Xn"
      }
    },
    {
      "cell_type": "code",
      "source": [
        "from sklearn.model_selection import train_test_split \n",
        "from sklearn.metrics import mean_squared_error, r2_score\n",
        "\n",
        "# split data\n",
        "sample_count = df_flights.shape[0]\n",
        "sample_flights = df_flights.sample(n=sample_count//10,replace=True)\n",
        "X_train, X_test, y_train, y_test = train_test_split(sample_flights.drop(columns = ['ARRIVAL_DELAY']), sample_flights['ARRIVAL_DELAY'], test_size=0.2, random_state=42, shuffle=True)\n",
        "display(X_train.shape)\n",
        "display(y_train.shape)"
      ],
      "metadata": {
        "id": "y8qCixNByRTB"
      },
      "execution_count": null,
      "outputs": []
    },
    {
      "cell_type": "markdown",
      "source": [
        "### Linear Regression"
      ],
      "metadata": {
        "id": "NA0zObgNx_kb"
      }
    },
    {
      "cell_type": "code",
      "source": [
        "# perform SGD\n",
        "from sklearn.linear_model import SGDRegressor\n",
        "from sklearn.metrics import mean_squared_error\n",
        "reg = SGDRegressor()\n",
        "reg.fit(X=X_train, y=y_train)\n",
        "\n",
        "y_pred = reg.predict(X_test)\n",
        "mse1 = mean_squared_error(y_test, y_pred)\n",
        "\n",
        "print(\"Model weights: \")\n",
        "print(reg.coef_)\n",
        "print('Testing MSE:',mse1)\n",
        "print(\"Model score:\",reg.score(X_test, y_test) ) \n",
        "# indicating that with higher departure delay and longer air time, it is more likely to have longer arrival delay \n",
        "# the last weight (for distance) is negative, it indicates that with shorter distance, it is more likely to have longer arrival delay "
      ],
      "metadata": {
        "id": "D31Zyv3pySRO"
      },
      "execution_count": null,
      "outputs": []
    },
    {
      "cell_type": "code",
      "source": [
        "sns.scatterplot(X_train[\"AIR_TIME\"], y_train)\n",
        "sns.scatterplot(X_train[\"DISTANCE\"], y_train)\n",
        "sns.scatterplot(X_train[\"DEPARTURE_DELAY\"], y_train)"
      ],
      "metadata": {
        "id": "eaZwBoOCySYL"
      },
      "execution_count": null,
      "outputs": []
    },
    {
      "cell_type": "markdown",
      "source": [
        "### Poylnomial Regression"
      ],
      "metadata": {
        "id": "Gxbc9Kf_x_qY"
      }
    },
    {
      "cell_type": "code",
      "source": [
        "from sklearn.preprocessing import PolynomialFeatures\n",
        "from sklearn.linear_model import LinearRegression\n",
        "poly = PolynomialFeatures(degree=3, include_bias=False)\n",
        "X_poly = poly.fit_transform((X_train))\n",
        "plr = LinearRegression()\n",
        "# Note that I didn't do reshape on X_poly as it's already a matrix.\n",
        "plr.fit(X_poly, (y_train))\n",
        "    \n",
        "predicted = plr.predict(poly.transform((X_test)))\n",
        "    \n",
        "display(plr.intercept_)\n",
        "display(plr.coef_[0:3])\n",
        "\n",
        "print(f'Polynomial regression with degree = {3}')\n",
        "print(f'Training MSE error is:',mean_squared_error(plr.predict(X_poly), y_train))\n",
        "print(f'Testing MSE error is:', mean_squared_error(predicted, y_test))\n",
        "print(\"Model score:\",plr.score(X_test, y_test))"
      ],
      "metadata": {
        "id": "lQMwGIVKylwb"
      },
      "execution_count": null,
      "outputs": []
    },
    {
      "cell_type": "markdown",
      "source": [
        "### Further approaches"
      ],
      "metadata": {
        "id": "RVw6NEX9x_ss"
      }
    },
    {
      "cell_type": "markdown",
      "source": [
        "#### Lasso Regression"
      ],
      "metadata": {
        "id": "DeIiirz-x_vY"
      }
    },
    {
      "cell_type": "code",
      "source": [
        "from sklearn import linear_model\n",
        "reg = linear_model.Lasso(alpha=0.1)\n",
        "reg.fit(X_train, y_train)\n",
        "\n",
        "y_train_pred = reg.predict(X_train)\n",
        "\n",
        "train_mse = mean_squared_error(y_train,y_train_pred)\n",
        "print('Training MSE:',train_mse)\n",
        "y_hat = reg.predict(X_test)\n",
        "print(f'Testing MSE error is: {round(mean_squared_error(y_hat, y_test),4)}')\n",
        "print(\"Model score:\",reg.score(X_test, y_test))"
      ],
      "metadata": {
        "id": "QqGbsh1VyoFM"
      },
      "execution_count": null,
      "outputs": []
    },
    {
      "cell_type": "markdown",
      "source": [
        "#### Ridge Regression"
      ],
      "metadata": {
        "id": "MqEYYNTix_xs"
      }
    },
    {
      "cell_type": "code",
      "source": [
        "from sklearn import linear_model\n",
        "reg = linear_model.Ridge(alpha=.5)\n",
        "reg.fit(X_train, y_train)\n",
        "\n",
        "y_train_pred = reg.predict(X_train)\n",
        "# plt.figure(figsize=(7, 7))\n",
        "# sns.scatterplot(X_train, y_train)\n",
        "# plt.show()\n",
        "\n",
        "train_mse = mean_squared_error(y_train,y_train_pred)\n",
        "print('Training MSE:',train_mse)\n",
        "y_hat = reg.predict(X_test)\n",
        "print(f'Testing MSE error is: {round(mean_squared_error(y_hat, y_test),4)}')\n",
        "\n",
        "print(\"Model weights: \")\n",
        "print(reg.coef_)\n",
        "\n",
        "z = reg.score(X_test, y_test)\n",
        "print(\"Accuracy score: \",z)"
      ],
      "metadata": {
        "id": "ExoGAXvNypCL"
      },
      "execution_count": null,
      "outputs": []
    },
    {
      "cell_type": "code",
      "source": [
        "\n",
        "print(\"Full scatter plot for the training data\")\n",
        "plt.figure(figsize=(7, 7))\n",
        "for i in range (len(X_train.columns)):\n",
        "  sns.scatterplot(X_train[X_train.columns[i]], y_train)\n",
        "plt.show()"
      ],
      "metadata": {
        "id": "4--itMGpyrMX"
      },
      "execution_count": null,
      "outputs": []
    },
    {
      "cell_type": "code",
      "source": [
        "print(\"Most Relvant Features\")\n",
        "plt.figure(figsize=(7, 7))\n",
        "sns.scatterplot(X_train[\"DEPARTURE_DELAY\"], y_train)\n",
        "sns.scatterplot(X_train[\"AIR_TIME\"], y_train)\n",
        "sns.scatterplot(X_train[\"DISTANCE\"], y_train)\n",
        "plt.show()"
      ],
      "metadata": {
        "id": "f-Y3xa8gytFN"
      },
      "execution_count": null,
      "outputs": []
    }
  ]
}